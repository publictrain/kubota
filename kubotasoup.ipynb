{
  "nbformat": 4,
  "nbformat_minor": 0,
  "metadata": {
    "colab": {
      "name": "kubotasoup.ipynb",
      "provenance": [],
      "collapsed_sections": [],
      "mount_file_id": "1I0GTmUivQQPNrZC7ydaRrJZDEyte6bKL",
      "authorship_tag": "ABX9TyMyxAGBmQfdAPHoO3jldV7h",
      "include_colab_link": true
    },
    "kernelspec": {
      "name": "python3",
      "display_name": "Python 3"
    },
    "language_info": {
      "name": "python"
    }
  },
  "cells": [
    {
      "cell_type": "markdown",
      "metadata": {
        "id": "view-in-github",
        "colab_type": "text"
      },
      "source": [
        "<a href=\"https://colab.research.google.com/github/publictrain/kubota/blob/main/kubotasoup.ipynb\" target=\"_parent\"><img src=\"https://colab.research.google.com/assets/colab-badge.svg\" alt=\"Open In Colab\"/></a>"
      ]
    },
    {
      "cell_type": "code",
      "execution_count": 5,
      "metadata": {
        "colab": {
          "base_uri": "https://localhost:8080/"
        },
        "id": "hQAqiNbHDJAn",
        "outputId": "f87b8233-886b-4cc2-858e-e6bfeeb8c916"
      },
      "outputs": [
        {
          "output_type": "stream",
          "name": "stderr",
          "text": [
            "\n",
            "KeyboardInterrupt\n",
            "\n"
          ]
        }
      ],
      "source": [
        "from bs4 import BeautifulSoup\n",
        "import re\n",
        "import requests\n",
        "import time\n",
        "import random\n",
        "import csv\n",
        "import urllib\n",
        "import os\n",
        "import pprint\n",
        "import time\n",
        "import urllib.error\n",
        "import urllib.request\n",
        "# Colabでもどれが使ったライブラリかわかるようにしてくれ\n",
        "\n",
        "headers = {\"User-Agent\": \"Mozilla/5.0 (Windows NT 10.0; Win64; x64) AppleWebKit/537.36 (KHTML, like Gecko) Chrome/62.0.3202.94 Safari/537.36\"}\n",
        "\n",
        "def main():\n",
        "  ans_list = []\n",
        "  ans_list_box = []\n",
        "  pdf_list = []\n",
        "  k=int(input(\"(ここに入力した数かける30くらいの安保理データが手に入るよ！\"))\n",
        "\n",
        "  for i in range(1,k):#1ページ目からスタート\n",
        "    load_url = \"https://www.securitycouncilreport.org/un-documents-all-pdfs-last-added/page/{0}\".format(i)# これヘッダーがないと動かない。スクレイピングよけだろう...\n",
        "    html = requests.get(load_url,headers=headers)\n",
        "    soup = BeautifulSoup(html.content, \"html.parser\")\n",
        "    elems = soup.select(\"h7 > a\")# elemsの型はBs特有のもの、h7 > aでネストの探索\n",
        "\n",
        "    for elem in elems:\n",
        "      if \"pdf\" in str(elem):\n",
        "        pdf_list.append(str(elem.get(\"href\")))#　elemの型はBs特有のもの、それをキャストしてる\n",
        "    wait_xs()\n",
        "  print(pdf_list)\n",
        "\n",
        "  for j in range(len(pdf_list)):\n",
        "    req = urllib.request.Request(pdf_list[j], headers=headers)# 403よけHeader\n",
        "    download_file(req, \"/content/drive/MyDrive/Colab Notebooks/kubota/gomi/pekopeko{0}.pdf\".format(j))\n",
        "\n",
        "\n",
        "def wait_xs():\n",
        "  sec = random.uniform(0.1, 0.5)\n",
        "  time.sleep(sec)\n",
        "\n",
        "def download_file(req, dst_path):\n",
        "    try:\n",
        "        with urllib.request.urlopen(req) as web_file:\n",
        "            data = web_file.read()\n",
        "            with open(dst_path, mode='wb') as local_file:\n",
        "                local_file.write(data)\n",
        "    except urllib.error.URLError as e:\n",
        "        print(e)\n",
        "\n",
        "\n",
        "\n",
        "if __name__ == \"__main__\":\n",
        "    main()\n",
        "\n"
      ]
    }
  ]
}